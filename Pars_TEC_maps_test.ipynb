{
 "cells": [
  {
   "cell_type": "code",
   "execution_count": 1,
   "metadata": {},
   "outputs": [],
   "source": [
    "from collections import OrderedDict\n",
    "import numpy as np\n",
    "import matplotlib.pyplot as plt\n",
    "import matplotlib\n",
    "import pandas as pd \n",
    "import os\n",
    "\n",
    "%matplotlib inline"
   ]
  },
  {
   "cell_type": "code",
   "execution_count": 13,
   "metadata": {},
   "outputs": [
    {
     "name": "stdout",
     "output_type": "stream",
     "text": [
      "0\n",
      "1\n",
      "2\n",
      "3\n",
      "4\n",
      "5\n",
      "6\n",
      "7\n",
      "8\n",
      "9\n",
      "10\n",
      "11\n",
      "12\n",
      "13\n",
      "14\n",
      "15\n",
      "16\n",
      "17\n",
      "18\n",
      "19\n",
      "20\n",
      "21\n",
      "22\n",
      "23\n",
      "[47. 41. 41. 41. 39. 37. 36. 35. 36. 35. 31. 28. 25. 26. 28. 25. 21. 21.\n",
      " 21. 22. 30. 35. 35. 35.]\n"
     ]
    }
   ],
   "source": [
    "data = open('180101t.txt', \"r\")\n",
    "TEC = np.zeros(24*73*71).reshape(24,71,73)\n",
    "TECU = []\n",
    "# Анализ заголовка TEC - файла\n",
    "currentLine = data.readline().rstrip('\\n')\n",
    "while(currentLine[60:].rstrip() != \"END OF HEADER\"):\n",
    "    currentLine = data.readline().rstrip('\\n')\n",
    "\n",
    "#currentLine = data.readline().rstrip('\\n')\n",
    "#currentLine = data.readline().rstrip('\\n')\n",
    "\n",
    "\n",
    "itime = 0\n",
    "ilat = 0\n",
    "while currentLine.rstrip() != \"\":\n",
    "    currentLine = data.readline().rstrip('\\n')\n",
    "    if(currentLine[60:].rstrip() != \"START OF TEC MAP\"):\n",
    "        for row in range(5):\n",
    "            currentLine = data.readline()\n",
    "            TECU.extend(currentLine.split())\n",
    "       \n",
    "        \n",
    "        #print(TECU, len(TECU))\n",
    "        k=0\n",
    "        for i in TECU:\n",
    "            TEC[itime, ilat, k] = float(i)\n",
    "            k = k+1\n",
    "            \n",
    "        TECU.clear()\n",
    "        ilat = ilat+1\n",
    "        if ilat >= 71:\n",
    "            print(itime)\n",
    "            ilat = 0\n",
    "            itime = itime+1\n",
    "            \n",
    "    else:\n",
    "        currentLine = data.readline().rstrip('\\n')\n",
    "   \n",
    "            \n",
    "    if itime>23:\n",
    "        break\n",
    "    #global TEC_day_map\n",
    "\n",
    "    TEC_day_map = np.zeros(73*71).reshape(71,73)\n",
    "    for lat in range(71):\n",
    "        for long in range(73):\n",
    "            TEC_day_map[lat, long] = np.mean(TEC[:, lat, long])/10\n",
    "#print(TEC[:,0,0])"
   ]
  },
  {
   "cell_type": "code",
   "execution_count": 16,
   "metadata": {},
   "outputs": [
    {
     "name": "stdout",
     "output_type": "stream",
     "text": [
      "31.916666666666668\n"
     ]
    }
   ],
   "source": [
    "print(np.mean(TEC[:,0,1]))"
   ]
  },
  {
   "cell_type": "code",
   "execution_count": 15,
   "metadata": {},
   "outputs": [
    {
     "data": {
      "text/plain": [
       "<matplotlib.contour.QuadContourSet at 0x1d871a87b48>"
      ]
     },
     "execution_count": 15,
     "metadata": {},
     "output_type": "execute_result"
    },
    {
     "data": {
      "image/png": "[encoded data removed]",
      "text/plain": [
       "<Figure size 432x288 with 1 Axes>"
      ]
     },
     "metadata": {
      "needs_background": "light"
     },
     "output_type": "display_data"
    }
   ],
   "source": [
    "plt.contourf(TEC_day_map)"
   ]
  },
  {
   "cell_type": "code",
   "execution_count": null,
   "metadata": {},
   "outputs": [],
   "source": []
  }
 ],
 "metadata": {
  "kernelspec": {
   "display_name": "Python 3",
   "language": "python",
   "name": "python3"
  },
  "language_info": {
   "codemirror_mode": {
    "name": "ipython",
    "version": 3
   },
   "file_extension": ".py",
   "mimetype": "text/x-python",
   "name": "python",
   "nbconvert_exporter": "python",
   "pygments_lexer": "ipython3",
   "version": "3.7.6"
  }
 },
 "nbformat": 4,
 "nbformat_minor": 4
}
