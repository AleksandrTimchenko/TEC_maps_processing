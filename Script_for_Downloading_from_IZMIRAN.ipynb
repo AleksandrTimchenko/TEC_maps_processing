{
 "cells": [
  {
   "cell_type": "code",
   "execution_count": 44,
   "metadata": {},
   "outputs": [],
   "source": [
    "import requests as rq\n",
    "import datetime\n",
    "import wget\n",
    "import zipfile"
   ]
  },
  {
   "cell_type": "code",
   "execution_count": 45,
   "metadata": {},
   "outputs": [],
   "source": [
    "year = '2018'\n",
    "url = 'https://www.izmiran.ru/services/iweather/grif/Maps/TEC/' + str(year) + '/'"
   ]
  },
  {
   "cell_type": "code",
   "execution_count": 46,
   "metadata": {},
   "outputs": [
    {
     "data": {
      "text/plain": [
       "200"
      ]
     },
     "execution_count": 46,
     "metadata": {},
     "output_type": "execute_result"
    }
   ],
   "source": [
    "data = rq.get(url)\n",
    "data.status_code"
   ]
  },
  {
   "cell_type": "code",
   "execution_count": 47,
   "metadata": {},
   "outputs": [
    {
     "name": "stdout",
     "output_type": "stream",
     "text": [
      "365\n"
     ]
    }
   ],
   "source": [
    "# проверяем високосный ли год\n",
    "if(int(year) % 4 == 0):\n",
    "    nday = 366\n",
    "else:\n",
    "    nday = 365\n",
    "print(nday)"
   ]
  },
  {
   "cell_type": "code",
   "execution_count": 48,
   "metadata": {},
   "outputs": [
    {
     "name": "stdout",
     "output_type": "stream",
     "text": [
      "100% [............................................................................] 151126 / 151126"
     ]
    }
   ],
   "source": [
    "for i in range(nday):\n",
    "    # переводим день года в дату (годб месяцб день)\n",
    "    date_of_doy = datetime.datetime(int(year), 1, 1) + datetime.timedelta(i - 1)\n",
    "    this_month = date_of_doy.month # извлекаем только месяц\n",
    "    this_day = date_of_doy.day # извлекаем только день\n",
    "    # добавление нуля перед номером месяца и дня для создания имени\n",
    "    if(this_month<10):\n",
    "        this_month = '0' + str(this_month)\n",
    "    else:\n",
    "        str(this_month)\n",
    "    if(this_day<10):\n",
    "        this_day = '0' + str(this_day)\n",
    "    else:\n",
    "        str(this_day)\n",
    "    url1 = url + str(year[2:4]) + str(this_month) + str(this_day) + 't.zip'\n",
    "    # создание пути и имени сохраняемого архива    \n",
    "    directory = './' + str(year) + 'zip/' + str(year[2:4]) + str(this_month) + str(this_day) + 'tat.zip'\n",
    "    # скачивание и сохранение архива на компьютере\n",
    "    wget.download(url1, directory)\n",
    "    #ub.urlcleanup( )\n",
    "    to_ = './' + str(year) + 'txt/'\n",
    "    TEC_data = zipfile.ZipFile(directory)\n",
    "    TEC_data.extractall(to_)\n",
    "    \n"
   ]
  }
 ],
 "metadata": {
  "kernelspec": {
   "display_name": "Python 3",
   "language": "python",
   "name": "python3"
  },
  "language_info": {
   "codemirror_mode": {
    "name": "ipython",
    "version": 3
   },
   "file_extension": ".py",
   "mimetype": "text/x-python",
   "name": "python",
   "nbconvert_exporter": "python",
   "pygments_lexer": "ipython3",
   "version": "3.7.6"
  }
 },
 "nbformat": 4,
 "nbformat_minor": 4
}
